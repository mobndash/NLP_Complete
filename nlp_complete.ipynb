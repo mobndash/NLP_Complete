{
 "cells": [
  {
   "cell_type": "code",
   "execution_count": 1,
   "id": "8e1adf83",
   "metadata": {},
   "outputs": [],
   "source": [
    "import pandas as pd\n",
    "import matplotlib.pyplot as plt\n",
    "import numpy as np\n",
    "import seaborn as sns"
   ]
  },
  {
   "cell_type": "code",
   "execution_count": 156,
   "id": "47e9170f",
   "metadata": {},
   "outputs": [],
   "source": [
    "df = pd.read_csv(\"E:/Generative AI Projects/NLP_Complete/corpus/train.txt\", sep = \";\", header = None, names = [\"text\", \"emotions\"])"
   ]
  },
  {
   "cell_type": "code",
   "execution_count": 157,
   "id": "982b4c51",
   "metadata": {},
   "outputs": [
    {
     "data": {
      "application/vnd.microsoft.datawrangler.viewer.v0+json": {
       "columns": [
        {
         "name": "index",
         "rawType": "int64",
         "type": "integer"
        },
        {
         "name": "text",
         "rawType": "object",
         "type": "string"
        },
        {
         "name": "emotions",
         "rawType": "object",
         "type": "string"
        }
       ],
       "ref": "36684026-547e-4eca-bb61-7226a3102992",
       "rows": [
        [
         "0",
         "i didnt feel humiliated",
         "sadness"
        ],
        [
         "1",
         "i can go from feeling so hopeless to so damned hopeful just from being around someone who cares and is awake",
         "sadness"
        ],
        [
         "2",
         "im grabbing a minute to post i feel greedy wrong",
         "anger"
        ]
       ],
       "shape": {
        "columns": 2,
        "rows": 3
       }
      },
      "text/html": [
       "<div>\n",
       "<style scoped>\n",
       "    .dataframe tbody tr th:only-of-type {\n",
       "        vertical-align: middle;\n",
       "    }\n",
       "\n",
       "    .dataframe tbody tr th {\n",
       "        vertical-align: top;\n",
       "    }\n",
       "\n",
       "    .dataframe thead th {\n",
       "        text-align: right;\n",
       "    }\n",
       "</style>\n",
       "<table border=\"1\" class=\"dataframe\">\n",
       "  <thead>\n",
       "    <tr style=\"text-align: right;\">\n",
       "      <th></th>\n",
       "      <th>text</th>\n",
       "      <th>emotions</th>\n",
       "    </tr>\n",
       "  </thead>\n",
       "  <tbody>\n",
       "    <tr>\n",
       "      <th>0</th>\n",
       "      <td>i didnt feel humiliated</td>\n",
       "      <td>sadness</td>\n",
       "    </tr>\n",
       "    <tr>\n",
       "      <th>1</th>\n",
       "      <td>i can go from feeling so hopeless to so damned...</td>\n",
       "      <td>sadness</td>\n",
       "    </tr>\n",
       "    <tr>\n",
       "      <th>2</th>\n",
       "      <td>im grabbing a minute to post i feel greedy wrong</td>\n",
       "      <td>anger</td>\n",
       "    </tr>\n",
       "  </tbody>\n",
       "</table>\n",
       "</div>"
      ],
      "text/plain": [
       "                                                text emotions\n",
       "0                            i didnt feel humiliated  sadness\n",
       "1  i can go from feeling so hopeless to so damned...  sadness\n",
       "2   im grabbing a minute to post i feel greedy wrong    anger"
      ]
     },
     "execution_count": 157,
     "metadata": {},
     "output_type": "execute_result"
    }
   ],
   "source": [
    "df.head(3)"
   ]
  },
  {
   "cell_type": "code",
   "execution_count": 158,
   "id": "23705459",
   "metadata": {},
   "outputs": [
    {
     "data": {
      "application/vnd.microsoft.datawrangler.viewer.v0+json": {
       "columns": [
        {
         "name": "index",
         "rawType": "object",
         "type": "string"
        },
        {
         "name": "0",
         "rawType": "int64",
         "type": "integer"
        }
       ],
       "ref": "058b586c-095e-471e-8fd6-68f68c026f5f",
       "rows": [
        [
         "text",
         "0"
        ],
        [
         "emotions",
         "0"
        ]
       ],
       "shape": {
        "columns": 1,
        "rows": 2
       }
      },
      "text/plain": [
       "text        0\n",
       "emotions    0\n",
       "dtype: int64"
      ]
     },
     "execution_count": 158,
     "metadata": {},
     "output_type": "execute_result"
    }
   ],
   "source": [
    "df.isnull().sum()"
   ]
  },
  {
   "cell_type": "code",
   "execution_count": 159,
   "id": "ecfb9611",
   "metadata": {},
   "outputs": [],
   "source": [
    "unique_emotions = df[\"emotions\"].unique()"
   ]
  },
  {
   "cell_type": "code",
   "execution_count": 160,
   "id": "17aefbc4",
   "metadata": {},
   "outputs": [
    {
     "data": {
      "text/plain": [
       "array(['sadness', 'anger', 'love', 'surprise', 'fear', 'joy'],\n",
       "      dtype=object)"
      ]
     },
     "execution_count": 160,
     "metadata": {},
     "output_type": "execute_result"
    }
   ],
   "source": [
    "unique_emotions"
   ]
  },
  {
   "cell_type": "code",
   "execution_count": 161,
   "id": "5606eadc",
   "metadata": {},
   "outputs": [],
   "source": [
    "emotions_numbers = {}\n",
    "i = 0\n",
    "for emo in unique_emotions :\n",
    "    emotions_numbers[emo] = i\n",
    "    i += 1\n",
    "\n",
    "df[\"emotions\"] = df[\"emotions\"].map(emotions_numbers)"
   ]
  },
  {
   "cell_type": "code",
   "execution_count": 162,
   "id": "308c3930",
   "metadata": {},
   "outputs": [
    {
     "data": {
      "application/vnd.microsoft.datawrangler.viewer.v0+json": {
       "columns": [
        {
         "name": "index",
         "rawType": "int64",
         "type": "integer"
        },
        {
         "name": "text",
         "rawType": "object",
         "type": "string"
        },
        {
         "name": "emotions",
         "rawType": "int64",
         "type": "integer"
        }
       ],
       "ref": "6ec069e0-36cd-4ec2-8bbb-1a403b96de07",
       "rows": [
        [
         "0",
         "i didnt feel humiliated",
         "0"
        ],
        [
         "1",
         "i can go from feeling so hopeless to so damned hopeful just from being around someone who cares and is awake",
         "0"
        ],
        [
         "2",
         "im grabbing a minute to post i feel greedy wrong",
         "1"
        ],
        [
         "3",
         "i am ever feeling nostalgic about the fireplace i will know that it is still on the property",
         "2"
        ],
        [
         "4",
         "i am feeling grouchy",
         "1"
        ],
        [
         "5",
         "ive been feeling a little burdened lately wasnt sure why that was",
         "0"
        ],
        [
         "6",
         "ive been taking or milligrams or times recommended amount and ive fallen asleep a lot faster but i also feel like so funny",
         "3"
        ]
       ],
       "shape": {
        "columns": 2,
        "rows": 7
       }
      },
      "text/html": [
       "<div>\n",
       "<style scoped>\n",
       "    .dataframe tbody tr th:only-of-type {\n",
       "        vertical-align: middle;\n",
       "    }\n",
       "\n",
       "    .dataframe tbody tr th {\n",
       "        vertical-align: top;\n",
       "    }\n",
       "\n",
       "    .dataframe thead th {\n",
       "        text-align: right;\n",
       "    }\n",
       "</style>\n",
       "<table border=\"1\" class=\"dataframe\">\n",
       "  <thead>\n",
       "    <tr style=\"text-align: right;\">\n",
       "      <th></th>\n",
       "      <th>text</th>\n",
       "      <th>emotions</th>\n",
       "    </tr>\n",
       "  </thead>\n",
       "  <tbody>\n",
       "    <tr>\n",
       "      <th>0</th>\n",
       "      <td>i didnt feel humiliated</td>\n",
       "      <td>0</td>\n",
       "    </tr>\n",
       "    <tr>\n",
       "      <th>1</th>\n",
       "      <td>i can go from feeling so hopeless to so damned...</td>\n",
       "      <td>0</td>\n",
       "    </tr>\n",
       "    <tr>\n",
       "      <th>2</th>\n",
       "      <td>im grabbing a minute to post i feel greedy wrong</td>\n",
       "      <td>1</td>\n",
       "    </tr>\n",
       "    <tr>\n",
       "      <th>3</th>\n",
       "      <td>i am ever feeling nostalgic about the fireplac...</td>\n",
       "      <td>2</td>\n",
       "    </tr>\n",
       "    <tr>\n",
       "      <th>4</th>\n",
       "      <td>i am feeling grouchy</td>\n",
       "      <td>1</td>\n",
       "    </tr>\n",
       "    <tr>\n",
       "      <th>5</th>\n",
       "      <td>ive been feeling a little burdened lately wasn...</td>\n",
       "      <td>0</td>\n",
       "    </tr>\n",
       "    <tr>\n",
       "      <th>6</th>\n",
       "      <td>ive been taking or milligrams or times recomme...</td>\n",
       "      <td>3</td>\n",
       "    </tr>\n",
       "  </tbody>\n",
       "</table>\n",
       "</div>"
      ],
      "text/plain": [
       "                                                text  emotions\n",
       "0                            i didnt feel humiliated         0\n",
       "1  i can go from feeling so hopeless to so damned...         0\n",
       "2   im grabbing a minute to post i feel greedy wrong         1\n",
       "3  i am ever feeling nostalgic about the fireplac...         2\n",
       "4                               i am feeling grouchy         1\n",
       "5  ive been feeling a little burdened lately wasn...         0\n",
       "6  ive been taking or milligrams or times recomme...         3"
      ]
     },
     "execution_count": 162,
     "metadata": {},
     "output_type": "execute_result"
    }
   ],
   "source": [
    "df.head(7)"
   ]
  },
  {
   "cell_type": "markdown",
   "id": "fccd9f3b",
   "metadata": {},
   "source": [
    "### Text Preprocessing\n",
    "##### Converting to lower case"
   ]
  },
  {
   "cell_type": "code",
   "execution_count": 163,
   "id": "9d3c5b3a",
   "metadata": {},
   "outputs": [],
   "source": [
    "df[\"text\"] = df[\"text\"].apply(lambda x : x.lower())"
   ]
  },
  {
   "cell_type": "markdown",
   "id": "b9766485",
   "metadata": {},
   "source": [
    "##### Removing Punctuations, Numbers and Emojis\n",
    "In DL based methods like, BERT, GPT, T5 punctuations can hold a meaning, we usually do not remove them during preprocessing"
   ]
  },
  {
   "cell_type": "code",
   "execution_count": 164,
   "id": "021cdebe",
   "metadata": {},
   "outputs": [],
   "source": [
    "import string\n",
    "\n",
    "def remove_punc(text) :\n",
    "    return text.translate(str.maketrans(\" \", \" \", string.punctuation))"
   ]
  },
  {
   "cell_type": "code",
   "execution_count": 165,
   "id": "18a8649b",
   "metadata": {},
   "outputs": [],
   "source": [
    "df[\"text\"] = df[\"text\"].apply(remove_punc)"
   ]
  },
  {
   "cell_type": "code",
   "execution_count": 166,
   "id": "43dfbf67",
   "metadata": {},
   "outputs": [],
   "source": [
    "def remove_num(text) :\n",
    "    new = \"\"\n",
    "    for i in text :\n",
    "        if not i.isdigit() :\n",
    "            new = new + i\n",
    "    return new"
   ]
  },
  {
   "cell_type": "code",
   "execution_count": 167,
   "id": "f0ae7f96",
   "metadata": {},
   "outputs": [],
   "source": [
    "df[\"text\"] = df[\"text\"].apply(remove_num)"
   ]
  },
  {
   "cell_type": "code",
   "execution_count": 168,
   "id": "ed85db2e",
   "metadata": {},
   "outputs": [],
   "source": [
    "def remove_emojis(text) :\n",
    "    new = \"\"\n",
    "    for i in text :\n",
    "        if i.isascii() :\n",
    "            new  = new + i\n",
    "    return new\n",
    "\n",
    "df[\"text\"] = df[\"text\"].apply(remove_emojis)"
   ]
  },
  {
   "cell_type": "markdown",
   "id": "6e1e51d2",
   "metadata": {},
   "source": [
    "##### Remove Stopword\n",
    "w.r.t DL, stopwords preserves meaning.\n",
    "\n",
    "Imp : To remove stopwords it is necessary to transform Corpus -> Sentence -> Words. THis process is Tokenization for which we are using nltk.download(\"punkt\") or word_tokenizer"
   ]
  },
  {
   "cell_type": "code",
   "execution_count": 169,
   "id": "d7e1ec77",
   "metadata": {},
   "outputs": [],
   "source": [
    "import nltk\n",
    "from nltk.tokenize import word_tokenize, sent_tokenize\n",
    "from nltk.corpus import stopwords"
   ]
  },
  {
   "cell_type": "code",
   "execution_count": 45,
   "id": "b48f1728",
   "metadata": {},
   "outputs": [
    {
     "name": "stderr",
     "output_type": "stream",
     "text": [
      "[nltk_data] Downloading package punkt to\n",
      "[nltk_data]     C:\\Users\\swapn\\AppData\\Roaming\\nltk_data...\n",
      "[nltk_data]   Unzipping tokenizers\\punkt.zip.\n",
      "[nltk_data] Downloading package stopwords to\n",
      "[nltk_data]     C:\\Users\\swapn\\AppData\\Roaming\\nltk_data...\n",
      "[nltk_data]   Package stopwords is already up-to-date!\n"
     ]
    },
    {
     "data": {
      "text/plain": [
       "True"
      ]
     },
     "execution_count": 45,
     "metadata": {},
     "output_type": "execute_result"
    }
   ],
   "source": [
    "nltk.download(\"punkt\")\n",
    "nltk.download(\"stopwords\")"
   ]
  },
  {
   "cell_type": "code",
   "execution_count": 176,
   "id": "5984ff83",
   "metadata": {},
   "outputs": [],
   "source": [
    "stopwords = set(stopwords.words('english'))"
   ]
  },
  {
   "cell_type": "code",
   "execution_count": 177,
   "id": "7933cf79",
   "metadata": {},
   "outputs": [],
   "source": [
    "def tokenization(text) :\n",
    "    words = word_tokenize(text)\n",
    "    cleaned = []\n",
    "    for w in words :\n",
    "        if not w in stopwords :\n",
    "            cleaned.append(w)\n",
    "    return cleaned"
   ]
  },
  {
   "cell_type": "code",
   "execution_count": 178,
   "id": "584de165",
   "metadata": {},
   "outputs": [
    {
     "data": {
      "text/plain": [
       "'i can go from feeling so hopeless to so damned hopeful just from being around someone who cares and is awake'"
      ]
     },
     "execution_count": 178,
     "metadata": {},
     "output_type": "execute_result"
    }
   ],
   "source": [
    "df[\"text\"].iloc[1]"
   ]
  },
  {
   "cell_type": "code",
   "execution_count": 179,
   "id": "4ccba486",
   "metadata": {},
   "outputs": [],
   "source": [
    "df[\"text\"] = df[\"text\"].apply(tokenization)"
   ]
  },
  {
   "cell_type": "code",
   "execution_count": 180,
   "id": "c943838c",
   "metadata": {},
   "outputs": [
    {
     "data": {
      "text/plain": [
       "['go',\n",
       " 'feeling',\n",
       " 'hopeless',\n",
       " 'damned',\n",
       " 'hopeful',\n",
       " 'around',\n",
       " 'someone',\n",
       " 'cares',\n",
       " 'awake']"
      ]
     },
     "execution_count": 180,
     "metadata": {},
     "output_type": "execute_result"
    }
   ],
   "source": [
    "df[\"text\"].iloc[1]"
   ]
  },
  {
   "cell_type": "markdown",
   "id": "d06c7354",
   "metadata": {},
   "source": [
    "##### Stemming, Lemmatization"
   ]
  },
  {
   "cell_type": "code",
   "execution_count": 149,
   "id": "3e0ee9d8",
   "metadata": {},
   "outputs": [],
   "source": [
    "from nltk.stem import PorterStemmer\n",
    "from nltk.stem import WordNetLemmatizer\n",
    "from nltk.corpus import wordnet\n",
    "from nltk import pos_tag"
   ]
  },
  {
   "cell_type": "code",
   "execution_count": 145,
   "id": "0ab9af74",
   "metadata": {},
   "outputs": [],
   "source": [
    "def stemming(tokens) :\n",
    "    stemmer = PorterStemmer()\n",
    "    stemmed_word = []\n",
    "    for t in tokens :\n",
    "        stemmed_word.append(stemmer.stem(t))\n",
    "    return stemmed_word"
   ]
  },
  {
   "cell_type": "code",
   "execution_count": 146,
   "id": "4e1e1966",
   "metadata": {},
   "outputs": [],
   "source": [
    "df[\"text\"] = df[\"text\"].apply(stemming)"
   ]
  },
  {
   "cell_type": "code",
   "execution_count": 147,
   "id": "f31b5f1a",
   "metadata": {},
   "outputs": [
    {
     "data": {
      "text/plain": [
       "['go', 'feel', 'hopeless', 'damn', 'hope', 'around', 'someon', 'care', 'awak']"
      ]
     },
     "execution_count": 147,
     "metadata": {},
     "output_type": "execute_result"
    }
   ],
   "source": [
    "df[\"text\"].iloc[1]"
   ]
  },
  {
   "cell_type": "code",
   "execution_count": 152,
   "id": "35004bdb",
   "metadata": {},
   "outputs": [
    {
     "name": "stderr",
     "output_type": "stream",
     "text": [
      "[nltk_data] Downloading package wordnet to\n",
      "[nltk_data]     C:\\Users\\swapn\\AppData\\Roaming\\nltk_data...\n"
     ]
    },
    {
     "data": {
      "text/plain": [
       "True"
      ]
     },
     "execution_count": 152,
     "metadata": {},
     "output_type": "execute_result"
    }
   ],
   "source": [
    "nltk.download('wordnet')"
   ]
  },
  {
   "cell_type": "code",
   "execution_count": 181,
   "id": "10560a23",
   "metadata": {},
   "outputs": [],
   "source": [
    "# Map Treebank POS -> WordNet POS\n",
    "def get_wordnet_pos(treebank_tag):\n",
    "    if treebank_tag.startswith('J'):\n",
    "        return wordnet.ADJ\n",
    "    elif treebank_tag.startswith('V'):\n",
    "        return wordnet.VERB\n",
    "    elif treebank_tag.startswith('N'):\n",
    "        return wordnet.NOUN\n",
    "    elif treebank_tag.startswith('R'):\n",
    "        return wordnet.ADV\n",
    "    else:\n",
    "        return wordnet.NOUN  # default to noun\n",
    "\n",
    "def lemmatize(tokens):\n",
    "    lemmatizer = WordNetLemmatizer()\n",
    "    pos_tags = pos_tag(tokens)  # Auto POS tagging\n",
    "    \n",
    "    lemmatized = []\n",
    "    for word, tag in pos_tags:\n",
    "        wn_tag = get_wordnet_pos(tag)\n",
    "        lemmatized.append(lemmatizer.lemmatize(word, wn_tag))\n",
    "    \n",
    "    return lemmatized\n"
   ]
  },
  {
   "cell_type": "code",
   "execution_count": 182,
   "id": "dd155d8e",
   "metadata": {},
   "outputs": [],
   "source": [
    "df[\"text\"] = df[\"text\"].apply(lemmatize)"
   ]
  },
  {
   "cell_type": "code",
   "execution_count": 183,
   "id": "40df6253",
   "metadata": {},
   "outputs": [
    {
     "data": {
      "text/plain": [
       "['go',\n",
       " 'feeling',\n",
       " 'hopeless',\n",
       " 'damn',\n",
       " 'hopeful',\n",
       " 'around',\n",
       " 'someone',\n",
       " 'care',\n",
       " 'awake']"
      ]
     },
     "execution_count": 183,
     "metadata": {},
     "output_type": "execute_result"
    }
   ],
   "source": [
    "df[\"text\"].iloc[1]"
   ]
  },
  {
   "cell_type": "code",
   "execution_count": null,
   "id": "f2dad6c6",
   "metadata": {},
   "outputs": [],
   "source": []
  }
 ],
 "metadata": {
  "kernelspec": {
   "display_name": "nlpvenv",
   "language": "python",
   "name": "python3"
  },
  "language_info": {
   "codemirror_mode": {
    "name": "ipython",
    "version": 3
   },
   "file_extension": ".py",
   "mimetype": "text/x-python",
   "name": "python",
   "nbconvert_exporter": "python",
   "pygments_lexer": "ipython3",
   "version": "3.12.7"
  }
 },
 "nbformat": 4,
 "nbformat_minor": 5
}
